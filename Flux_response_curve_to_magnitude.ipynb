{
 "cells": [
  {
   "cell_type": "code",
   "execution_count": null,
   "metadata": {
    "collapsed": true
   },
   "outputs": [],
   "source": [
    "##计算消光规律 \n",
    "def Flux_ex(Av,wv_ccm,Flux)\n",
    "\n",
    "#wv_ccm=np.arange(3800,8701,1)/10000\n",
    "\n",
    "y=(1/wv_ccm)-1.82\n",
    "a=1+0.17699*y-0.50447*(y**2)-\\\n",
    "        0.02427*(y**3)+0.72085*(y**4)+0.01979*(y**5)\\\n",
    "        -0.77530*(y**6)+0.32999*(y**7)\n",
    "b=1.41338*y+2.28305*(y**2)+1.07233*(y**3)-\\\n",
    "        5.38434*(y**4)-0.62251*(y**5)\\\n",
    "        +5.30260*(y**6)-2.09002*(y**7)\n",
    "\n",
    "\n",
    "wv_law = (a+(b/3.1))\n",
    "\n",
    "\n",
    "return Flux *(10**((-Av*wv_law)/2.5))\n",
    "\n",
    "\n"
   ]
  },
  {
   "cell_type": "code",
   "execution_count": null,
   "metadata": {
    "collapsed": true
   },
   "outputs": [],
   "source": [
    "##计算消光规律 \n",
    "def Flux_ex(Av,wv_ccm,Flux)\n",
    "\n",
    "#wv_ccm=np.arange(3800,8701,1)/10000\n",
    "\n",
    "y=(1/wv_ccm)-1.82\n",
    "a=1+0.17699*y-0.50447*(y**2)-\\\n",
    "        0.02427*(y**3)+0.72085*(y**4)+0.01979*(y**5)\\\n",
    "        -0.77530*(y**6)+0.32999*(y**7)\n",
    "b=1.41338*y+2.28305*(y**2)+1.07233*(y**3)-\\\n",
    "        5.38434*(y**4)-0.62251*(y**5)\\\n",
    "        +5.30260*(y**6)-2.09002*(y**7)\n",
    "\n",
    "\n",
    "wv_law = (a+(b/3.1))\n",
    "\n",
    "\n",
    "return Flux *(10**((-Av*wv_law)/2.5))\n",
    "\n",
    "\n",
    "\n",
    "\n",
    "\n",
    "\n",
    "\n",
    "def SED_transmission(m_g,m_r,m_i,m_g_wave,m_r_wave,m_i_wave,wv1,wv2,wv3)\n",
    "\n",
    "#for SDSS    \n",
    "g1=def Flux_ex(Av,wv_ccm,Flux)[0:1821]\n",
    "    \n",
    "r1=def Flux_ex(Av,wv_ccm,Flux)[1580:3240]\n",
    "   \n",
    "i0=def Flux_ex(Av,wv_ccm,Flux)[2800:4581]\n",
    "\n",
    "f_res_g=interpolate.interp1d(m_g_wave,m_g,kind='linear')#Flam\n",
    "fnew_res_g=f_res_g(wv1)\n",
    "f_res_r=interpolate.interp1d(m_r_wave,m_r,kind='linear')#Flam\n",
    "fnew_res_r=f_res_r(wv2)\n",
    "f_res_i=interpolate.interp1d(m_i_wave,m_i,kind='linear')#Flam\n",
    "fnew_res_i=f_res_i(wv3)\n",
    "   \n",
    "g_mean=np.sum(fnew_res_g*g1)/np.sum(fnew_res_g)\n",
    "r_mean=np.sum(fnew_res_r*r1)/np.sum(fnew_res_r)\n",
    "i_mean=np.sum(fnew_res_i*i0)/np.sum(fnew_res_i)\n",
    "    \n",
    "return g_mean,r_mean,i_mean\n",
    "   "
   ]
  },
  {
   "cell_type": "code",
   "execution_count": null,
   "metadata": {
    "collapsed": true
   },
   "outputs": [],
   "source": []
  },
  {
   "cell_type": "code",
   "execution_count": null,
   "metadata": {
    "collapsed": true
   },
   "outputs": [],
   "source": []
  }
 ],
 "metadata": {
  "kernelspec": {
   "display_name": "Python 3",
   "language": "python",
   "name": "python3"
  },
  "language_info": {
   "codemirror_mode": {
    "name": "ipython",
    "version": 3
   },
   "file_extension": ".py",
   "mimetype": "text/x-python",
   "name": "python",
   "nbconvert_exporter": "python",
   "pygments_lexer": "ipython3",
   "version": "3.6.1"
  }
 },
 "nbformat": 4,
 "nbformat_minor": 2
}
