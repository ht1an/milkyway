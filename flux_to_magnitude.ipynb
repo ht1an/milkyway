{
 "cells": [
  {
   "cell_type": "code",
   "execution_count": null,
   "metadata": {
    "collapsed": true
   },
   "outputs": [],
   "source": [
    "\n",
    "import numpy as np\n",
    "import matplotlib.pyplot as plt\n",
    "import matplotlib\n",
    "import astropy.io.fits as fits\n",
    "from scipy.interpolate import interp1d\n",
    "from scipy import interpolate\n",
    "from scipy.interpolate import UnivariateSpline\n",
    "import pandas as pd\n"
   ]
  },
  {
   "cell_type": "code",
   "execution_count": null,
   "metadata": {
    "collapsed": true
   },
   "outputs": [],
   "source": [
    "panstar_response=pd.read_table('/share/data/jiwei/Lejeune1997/ps1.bandpass', sep = '\\s+')#\\s* response curve"
   ]
  },
  {
   "cell_type": "code",
   "execution_count": null,
   "metadata": {
    "collapsed": true
   },
   "outputs": [],
   "source": [
    " #卷积计算g,r,i,z 流量\n",
    "    \n",
    "    ind=panstar_response.index.values\n",
    "    m_g=panstar_response['g'][30:236].values\n",
    "    m_g_wave=panstar_response['wave'][30:236].values*10\n",
    "    m_r=panstar_response['r'][151:378].values\n",
    "    m_r_wave=panstar_response['wave'][151:378].values*10\n",
    "    i_ind=ind[301:500]\n",
    "    m_i=panstar_response['i'][i_ind].values\n",
    "    m_i_wave=panstar_response['wave'][i_ind].values*10\n",
    "    z_ind=ind[403:521]\n",
    "    m_z=panstar_response['z'][z_ind].values\n",
    "    m_z_wave=panstar_response['wave'][z_ind].values*10\n",
    "    \n",
    "    #--------------------------------------------------------------------\n",
    "    #在response 每个波段范围内的流量分布\n",
    "    \n",
    "    g1 = spectra_cali_lm_ex[0:2051]\n",
    "    r1=spectra_cali_lm_ex[1210:3471]\n",
    "    i1=spectra_cali_lm_ex[2710:4691] \n",
    "    z1=spectra_cali_lm_ex[3730:4901]\n",
    "   \n",
    "    #--------------------------------------------------------------------\n",
    "    #因为response curve 与光谱波长不一致，所以进行插值到一个scale\n",
    "    \n",
    "    f_res_g=interpolate.interp1d(m_g_wave,m_g,kind='linear')#Flam\n",
    "    fnew_res_g=f_res_g(wv1[0:2051])\n",
    "    f_res_r=interpolate.interp1d(m_r_wave,m_r,kind='linear')#Flam\n",
    "    fnew_res_r=f_res_r(wv1[1210:3471])\n",
    "    f_res_i=interpolate.interp1d(m_i_wave,m_i,kind='linear')#Flam\n",
    "    fnew_res_i=f_res_i(wv1[2710:4691])\n",
    "    f_res_z=interpolate.interp1d(m_z_wave,m_z,kind='linear')#Flam\n",
    "    fnew_res_z=f_res_z(wv1[3730:4901])\n",
    "    print(fnew_res_i*i0,'fnew_res_i*i1')\n",
    "\n",
    "    #卷积到流量\n",
    "    g_mean=np.sum(fnew_res_g*g1)/np.sum(fnew_res_g)\n",
    "    r_mean=np.sum(fnew_res_r*r1)/np.sum(fnew_res_r)\n",
    "    i_mean=np.sum(fnew_res_i*i0)/np.sum(fnew_res_i)\n",
    "    z_mean=np.sum(fnew_res_z*z1)/np.sum(fnew_res_z)\n",
    "    \n",
    "    #-----------------------------------------------------------------------\n",
    "    \n",
    "    #从流量计算星等\n",
    "    \n",
    "    X1 = np.array([0.481,0.617,0.752])#g,r,i,z中心波长\n",
    "    SED_flux = np.array([g_mean,r_mean,i_mean,z_mean])\n",
    "    \n",
    "    #由于我的流量单位是erg/s/cm2/$\\AA$，所以可以利用第一条代码将流量单位转换到jansky,利用第二条代码 将流量计算到AB星等\n",
    "    AB_mag_jy = SED_fiux/((2.997925*(10**18))/((X1*10000)**2))/10**(-23)\n",
    "    AB_mag = -2.5*(np.log10(AB_mag_jy)-23)-48.6"
   ]
  },
  {
   "cell_type": "code",
   "execution_count": null,
   "metadata": {
    "collapsed": true
   },
   "outputs": [],
   "source": []
  },
  {
   "cell_type": "code",
   "execution_count": null,
   "metadata": {
    "collapsed": true
   },
   "outputs": [],
   "source": []
  },
  {
   "cell_type": "code",
   "execution_count": null,
   "metadata": {
    "collapsed": true
   },
   "outputs": [],
   "source": []
  }
 ],
 "metadata": {
  "kernelspec": {
   "display_name": "Python 3",
   "language": "python",
   "name": "python3"
  },
  "language_info": {
   "codemirror_mode": {
    "name": "ipython",
    "version": 3
   },
   "file_extension": ".py",
   "mimetype": "text/x-python",
   "name": "python",
   "nbconvert_exporter": "python",
   "pygments_lexer": "ipython3",
   "version": "3.6.1"
  }
 },
 "nbformat": 4,
 "nbformat_minor": 2
}
